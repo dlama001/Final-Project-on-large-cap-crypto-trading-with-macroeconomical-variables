{
 "cells": [
  {
   "cell_type": "markdown",
   "metadata": {},
   "source": [
    "# Introduction\n",
    "Cryptocurrencies are fast becoming rivals to traditional currency across the world. The digital currencies are available to purchase in many different places, making it accessible to everyone, and with retailers accepting various cryptocurrencies it could be a sign that money as we know it is about to go through a major change.\n",
    "\n",
    "In addition, the blockchain technology on which many cryptocurrencies are based, with its revolutionary distributed digital backbone, has many other promising applications. Implementations of secure, decentralized systems can aid us in conquering organizational issues of trust and security that have plagued our society throughout the ages. In effect, we can fundamentally \n"
   ]
  },
  {
   "cell_type": "markdown",
   "metadata": {
    "_cell_guid": "83708667-4fdc-1563-7b3a-06b6575d2865"
   },
   "source": [
    "# Bitcoin Price Prediction\n",
    "\n",
    "The goal of this case study is to use classification based models to predict whether the current signal is **buy or sell** depending on the short term vs long term price."
   ]
  },
  {
   "cell_type": "markdown",
   "metadata": {},
   "source": [
    "## Content"
   ]
  },
  {
   "cell_type": "markdown",
   "metadata": {},
   "source": [
    "* [1. Problem Definition](#0)\n",
    "* [2. Getting Started - Load Libraries and Dataset](#1)\n",
    "    * [2.1. Load Libraries](#1.1)    \n",
    "    * [2.2. Load Dataset](#1.2)\n",
    "* [3. Exploratory Data Analysis](#2)\n",
    "    * [3.1 Descriptive Statistics](#2.1) \n",
    "* [4. Data Preparation](#3)\n",
    "    * [4.1 Data Cleaning](#3.1)\n",
    "    * [4.2. Preparing classification data](#3.2)\n",
    "    * [4.3. Feature Engineering-Constructing Technical Indicators](#3.3)\n",
    "    * [4.4.Data Visualisation](#3.4)\n",
    "* [5.Evaluate Algorithms and Models](#4)        \n",
    "    * [5.1. Train/Test Split](#4.1)\n",
    "    * [5.2. Test Options and Evaluation Metrics](#4.2)\n",
    "    * [5.3. Compare Models and Algorithms](#4.3) \n",
    "* [6. Model Tuning and Grid Search](#5)  \n",
    "* [7. Finalize the Model](#6)  \n",
    "    * [7.1. Results on test dataset](#6.1)\n",
    "    * [7.1. Variable Intuition/Feature Selection](#6.2) \n",
    "* [8. Backtesting](#7)     \n"
   ]
  },
  {
   "cell_type": "markdown",
   "metadata": {},
   "source": [
    "<a id='0'></a>\n",
    "# 1. Problem Definition"
   ]
  },
  {
   "cell_type": "markdown",
   "metadata": {},
   "source": [
    "The problem of predicting a buy or sell signal for a trading strategy is defined in the\n",
    "classification framework, where the predicted variable has a value of 1 for buy and 0\n",
    "for sell.\n",
    "\n",
    "The buy or sell signal are decided on the basis on the comparison of short term vs. long\n",
    "term price.\n",
    "\n",
    "For the purpose of presented case study, we get the data from one of the largest Bit‐\n",
    "coin exchanges in terms of average daily volume traded—Bitstamp (https://\n",
    "www.bitstamp.com). Data can be found at: https://www.kaggle.com/mczielinski/bitcoin-historical-data"
   ]
  },
  {
   "cell_type": "markdown",
   "metadata": {},
   "source": [
    "<a id='1'></a>\n",
    "# 2. Getting Started- Loading the data and python packages"
   ]
  },
  {
   "cell_type": "markdown",
   "metadata": {},
   "source": [
    "<a id='1.1'></a>\n",
    "## 2.1. Loading the python packages"
   ]
  },
  {
   "cell_type": "code",
   "execution_count": 9,
   "metadata": {
    "ExecuteTime": {
     "end_time": "2022-05-09T22:22:14.044521Z",
     "start_time": "2022-05-09T22:22:13.292420Z"
    },
    "_cell_guid": "5d8fee34-f454-2642-8b06-ed719f0317e1"
   },
   "outputs": [],
   "source": [
    "# Load libraries\n",
    "import numpy as np\n",
    "import pandas as pd\n",
    "import matplotlib.pyplot as plt\n",
    "from pandas import read_csv, set_option\n",
    "from pandas.plotting import scatter_matrix\n",
    "import seaborn as sns\n",
    "from sklearn.preprocessing import StandardScaler\n",
    "from sklearn.model_selection import train_test_split, KFold, cross_val_score, GridSearchCV\n",
    "from sklearn.linear_model import LogisticRegression\n",
    "from sklearn.tree import DecisionTreeClassifier\n",
    "from sklearn.neighbors import KNeighborsClassifier\n",
    "from sklearn.discriminant_analysis import LinearDiscriminantAnalysis\n",
    "from sklearn.naive_bayes import GaussianNB\n",
    "from sklearn.svm import SVC\n",
    "from sklearn.neural_network import MLPClassifier\n",
    "from sklearn.pipeline import Pipeline\n",
    "from sklearn.ensemble import AdaBoostClassifier, GradientBoostingClassifier, RandomForestClassifier, ExtraTreesClassifier\n",
    "from sklearn.metrics import classification_report, confusion_matrix, accuracy_score\n",
    "\n",
    "#Libraries for Deep Learning Models\n",
    "from keras.models import Sequential\n",
    "from keras.layers import Dense\n",
    "from keras.wrappers.scikit_learn import KerasClassifier\n",
    "from tensorflow.keras.optimizers import SGD"
   ]
  },
  {
   "cell_type": "markdown",
   "metadata": {},
   "source": [
    "<a id='1.2'></a>\n",
    "## 2.2. Loading the Data"
   ]
  },
  {
   "cell_type": "code",
   "execution_count": 11,
   "metadata": {
    "ExecuteTime": {
     "end_time": "2022-05-09T22:26:34.826977Z",
     "start_time": "2022-05-09T22:26:26.417957Z"
    },
    "_cell_guid": "787e35f7-bf9e-0969-8d13-a54fa87f3519"
   },
   "outputs": [],
   "source": [
    "# load dataset\n",
    "dataset = pd.read_csv('BitstampData_sample.csv')"
   ]
  },
  {
   "cell_type": "code",
   "execution_count": 12,
   "metadata": {
    "ExecuteTime": {
     "end_time": "2022-05-09T22:26:34.903945Z",
     "start_time": "2022-05-09T22:26:34.896434Z"
    }
   },
   "outputs": [],
   "source": [
    "#Diable the warnings\n",
    "import warnings\n",
    "warnings.filterwarnings('ignore')"
   ]
  },
  {
   "cell_type": "markdown",
   "metadata": {
    "_cell_guid": "df6a4523-b385-69ee-c933-592826d81431"
   },
   "source": [
    "<a id='2'></a>\n",
    "# 3. Exploratory Data Analysis"
   ]
  },
  {
   "cell_type": "markdown",
   "metadata": {},
   "source": [
    "<a id='2.1'></a>\n",
    "## 3.1. Descriptive Statistics"
   ]
  },
  {
   "cell_type": "code",
   "execution_count": 13,
   "metadata": {
    "ExecuteTime": {
     "end_time": "2022-05-09T22:27:16.193464Z",
     "start_time": "2022-05-09T22:27:16.185496Z"
    },
    "_cell_guid": "52f85dc2-0f91-3c50-400e-ddc38bea966b"
   },
   "outputs": [
    {
     "data": {
      "text/plain": [
       "(4857377, 8)"
      ]
     },
     "execution_count": 13,
     "metadata": {},
     "output_type": "execute_result"
    }
   ],
   "source": [
    "# shape\n",
    "dataset.shape"
   ]
  },
  {
   "cell_type": "code",
   "execution_count": 14,
   "metadata": {
    "ExecuteTime": {
     "end_time": "2022-05-09T22:27:16.816810Z",
     "start_time": "2022-05-09T22:27:16.779829Z"
    }
   },
   "outputs": [
    {
     "data": {
      "text/html": [
       "<div>\n",
       "<style scoped>\n",
       "    .dataframe tbody tr th:only-of-type {\n",
       "        vertical-align: middle;\n",
       "    }\n",
       "\n",
       "    .dataframe tbody tr th {\n",
       "        vertical-align: top;\n",
       "    }\n",
       "\n",
       "    .dataframe thead th {\n",
       "        text-align: right;\n",
       "    }\n",
       "</style>\n",
       "<table border=\"1\" class=\"dataframe\">\n",
       "  <thead>\n",
       "    <tr style=\"text-align: right;\">\n",
       "      <th></th>\n",
       "      <th>Timestamp</th>\n",
       "      <th>Open</th>\n",
       "      <th>High</th>\n",
       "      <th>Low</th>\n",
       "      <th>Close</th>\n",
       "      <th>Volume_(BTC)</th>\n",
       "      <th>Volume_(Currency)</th>\n",
       "      <th>Weighted_Price</th>\n",
       "    </tr>\n",
       "  </thead>\n",
       "  <tbody>\n",
       "    <tr>\n",
       "      <th>4857372</th>\n",
       "      <td>1617148560</td>\n",
       "      <td>58714.31</td>\n",
       "      <td>58714.31</td>\n",
       "      <td>58686.00</td>\n",
       "      <td>58686.00</td>\n",
       "      <td>1.384487</td>\n",
       "      <td>81259.372187</td>\n",
       "      <td>58692.753339</td>\n",
       "    </tr>\n",
       "    <tr>\n",
       "      <th>4857373</th>\n",
       "      <td>1617148620</td>\n",
       "      <td>58683.97</td>\n",
       "      <td>58693.43</td>\n",
       "      <td>58683.97</td>\n",
       "      <td>58685.81</td>\n",
       "      <td>7.294848</td>\n",
       "      <td>428158.146640</td>\n",
       "      <td>58693.226508</td>\n",
       "    </tr>\n",
       "    <tr>\n",
       "      <th>4857374</th>\n",
       "      <td>1617148680</td>\n",
       "      <td>58693.43</td>\n",
       "      <td>58723.84</td>\n",
       "      <td>58693.43</td>\n",
       "      <td>58723.84</td>\n",
       "      <td>1.705682</td>\n",
       "      <td>100117.070370</td>\n",
       "      <td>58696.198496</td>\n",
       "    </tr>\n",
       "    <tr>\n",
       "      <th>4857375</th>\n",
       "      <td>1617148740</td>\n",
       "      <td>58742.18</td>\n",
       "      <td>58770.38</td>\n",
       "      <td>58742.18</td>\n",
       "      <td>58760.59</td>\n",
       "      <td>0.720415</td>\n",
       "      <td>42332.958633</td>\n",
       "      <td>58761.866202</td>\n",
       "    </tr>\n",
       "    <tr>\n",
       "      <th>4857376</th>\n",
       "      <td>1617148800</td>\n",
       "      <td>58767.75</td>\n",
       "      <td>58778.18</td>\n",
       "      <td>58755.97</td>\n",
       "      <td>58778.18</td>\n",
       "      <td>2.712831</td>\n",
       "      <td>159417.751000</td>\n",
       "      <td>58764.349363</td>\n",
       "    </tr>\n",
       "  </tbody>\n",
       "</table>\n",
       "</div>"
      ],
      "text/plain": [
       "          Timestamp      Open      High       Low     Close  Volume_(BTC)  Volume_(Currency)  \\\n",
       "4857372  1617148560  58714.31  58714.31  58686.00  58686.00      1.384487       81259.372187   \n",
       "4857373  1617148620  58683.97  58693.43  58683.97  58685.81      7.294848      428158.146640   \n",
       "4857374  1617148680  58693.43  58723.84  58693.43  58723.84      1.705682      100117.070370   \n",
       "4857375  1617148740  58742.18  58770.38  58742.18  58760.59      0.720415       42332.958633   \n",
       "4857376  1617148800  58767.75  58778.18  58755.97  58778.18      2.712831      159417.751000   \n",
       "\n",
       "         Weighted_Price  \n",
       "4857372    58692.753339  \n",
       "4857373    58693.226508  \n",
       "4857374    58696.198496  \n",
       "4857375    58761.866202  \n",
       "4857376    58764.349363  "
      ]
     },
     "execution_count": 14,
     "metadata": {},
     "output_type": "execute_result"
    }
   ],
   "source": [
    "# peek at data\n",
    "set_option('display.width', 100)\n",
    "dataset.tail(5)"
   ]
  },
  {
   "cell_type": "code",
   "execution_count": 15,
   "metadata": {
    "ExecuteTime": {
     "end_time": "2022-05-09T22:27:19.285508Z",
     "start_time": "2022-05-09T22:27:17.118969Z"
    },
    "_cell_guid": "7bffeec0-5bbc-fffb-18f2-3da56b862ca3"
   },
   "outputs": [
    {
     "data": {
      "text/html": [
       "<div>\n",
       "<style scoped>\n",
       "    .dataframe tbody tr th:only-of-type {\n",
       "        vertical-align: middle;\n",
       "    }\n",
       "\n",
       "    .dataframe tbody tr th {\n",
       "        vertical-align: top;\n",
       "    }\n",
       "\n",
       "    .dataframe thead th {\n",
       "        text-align: right;\n",
       "    }\n",
       "</style>\n",
       "<table border=\"1\" class=\"dataframe\">\n",
       "  <thead>\n",
       "    <tr style=\"text-align: right;\">\n",
       "      <th></th>\n",
       "      <th>Timestamp</th>\n",
       "      <th>Open</th>\n",
       "      <th>High</th>\n",
       "      <th>Low</th>\n",
       "      <th>Close</th>\n",
       "      <th>Volume_(BTC)</th>\n",
       "      <th>Volume_(Currency)</th>\n",
       "      <th>Weighted_Price</th>\n",
       "    </tr>\n",
       "  </thead>\n",
       "  <tbody>\n",
       "    <tr>\n",
       "      <th>count</th>\n",
       "      <td>4.857e+06</td>\n",
       "      <td>3.614e+06</td>\n",
       "      <td>3.614e+06</td>\n",
       "      <td>3.614e+06</td>\n",
       "      <td>3.614e+06</td>\n",
       "      <td>3.614e+06</td>\n",
       "      <td>3.614e+06</td>\n",
       "      <td>3.614e+06</td>\n",
       "    </tr>\n",
       "    <tr>\n",
       "      <th>mean</th>\n",
       "      <td>1.471e+09</td>\n",
       "      <td>6.009e+03</td>\n",
       "      <td>6.013e+03</td>\n",
       "      <td>6.004e+03</td>\n",
       "      <td>6.009e+03</td>\n",
       "      <td>9.323e+00</td>\n",
       "      <td>4.176e+04</td>\n",
       "      <td>6.009e+03</td>\n",
       "    </tr>\n",
       "    <tr>\n",
       "      <th>std</th>\n",
       "      <td>8.428e+07</td>\n",
       "      <td>8.996e+03</td>\n",
       "      <td>9.004e+03</td>\n",
       "      <td>8.989e+03</td>\n",
       "      <td>8.996e+03</td>\n",
       "      <td>3.055e+01</td>\n",
       "      <td>1.518e+05</td>\n",
       "      <td>8.996e+03</td>\n",
       "    </tr>\n",
       "    <tr>\n",
       "      <th>min</th>\n",
       "      <td>1.325e+09</td>\n",
       "      <td>3.800e+00</td>\n",
       "      <td>3.800e+00</td>\n",
       "      <td>1.500e+00</td>\n",
       "      <td>1.500e+00</td>\n",
       "      <td>0.000e+00</td>\n",
       "      <td>0.000e+00</td>\n",
       "      <td>3.800e+00</td>\n",
       "    </tr>\n",
       "    <tr>\n",
       "      <th>25%</th>\n",
       "      <td>1.398e+09</td>\n",
       "      <td>4.439e+02</td>\n",
       "      <td>4.440e+02</td>\n",
       "      <td>4.435e+02</td>\n",
       "      <td>4.439e+02</td>\n",
       "      <td>4.098e-01</td>\n",
       "      <td>4.521e+02</td>\n",
       "      <td>4.438e+02</td>\n",
       "    </tr>\n",
       "    <tr>\n",
       "      <th>50%</th>\n",
       "      <td>1.471e+09</td>\n",
       "      <td>3.597e+03</td>\n",
       "      <td>3.598e+03</td>\n",
       "      <td>3.596e+03</td>\n",
       "      <td>3.597e+03</td>\n",
       "      <td>1.980e+00</td>\n",
       "      <td>3.810e+03</td>\n",
       "      <td>3.597e+03</td>\n",
       "    </tr>\n",
       "    <tr>\n",
       "      <th>75%</th>\n",
       "      <td>1.544e+09</td>\n",
       "      <td>8.627e+03</td>\n",
       "      <td>8.633e+03</td>\n",
       "      <td>8.621e+03</td>\n",
       "      <td>8.627e+03</td>\n",
       "      <td>7.278e+00</td>\n",
       "      <td>2.570e+04</td>\n",
       "      <td>8.628e+03</td>\n",
       "    </tr>\n",
       "    <tr>\n",
       "      <th>max</th>\n",
       "      <td>1.617e+09</td>\n",
       "      <td>6.176e+04</td>\n",
       "      <td>6.178e+04</td>\n",
       "      <td>6.167e+04</td>\n",
       "      <td>6.178e+04</td>\n",
       "      <td>5.854e+03</td>\n",
       "      <td>1.390e+07</td>\n",
       "      <td>6.172e+04</td>\n",
       "    </tr>\n",
       "  </tbody>\n",
       "</table>\n",
       "</div>"
      ],
      "text/plain": [
       "       Timestamp       Open       High        Low      Close  Volume_(BTC)  Volume_(Currency)  \\\n",
       "count  4.857e+06  3.614e+06  3.614e+06  3.614e+06  3.614e+06     3.614e+06          3.614e+06   \n",
       "mean   1.471e+09  6.009e+03  6.013e+03  6.004e+03  6.009e+03     9.323e+00          4.176e+04   \n",
       "std    8.428e+07  8.996e+03  9.004e+03  8.989e+03  8.996e+03     3.055e+01          1.518e+05   \n",
       "min    1.325e+09  3.800e+00  3.800e+00  1.500e+00  1.500e+00     0.000e+00          0.000e+00   \n",
       "25%    1.398e+09  4.439e+02  4.440e+02  4.435e+02  4.439e+02     4.098e-01          4.521e+02   \n",
       "50%    1.471e+09  3.597e+03  3.598e+03  3.596e+03  3.597e+03     1.980e+00          3.810e+03   \n",
       "75%    1.544e+09  8.627e+03  8.633e+03  8.621e+03  8.627e+03     7.278e+00          2.570e+04   \n",
       "max    1.617e+09  6.176e+04  6.178e+04  6.167e+04  6.178e+04     5.854e+03          1.390e+07   \n",
       "\n",
       "       Weighted_Price  \n",
       "count       3.614e+06  \n",
       "mean        6.009e+03  \n",
       "std         8.996e+03  \n",
       "min         3.800e+00  \n",
       "25%         4.438e+02  \n",
       "50%         3.597e+03  \n",
       "75%         8.628e+03  \n",
       "max         6.172e+04  "
      ]
     },
     "execution_count": 15,
     "metadata": {},
     "output_type": "execute_result"
    }
   ],
   "source": [
    "# describe data\n",
    "set_option('precision', 3)\n",
    "dataset.describe()"
   ]
  },
  {
   "cell_type": "markdown",
   "metadata": {},
   "source": [
    "<a id='3'></a>\n",
    "# 4. Data Preparation"
   ]
  },
  {
   "cell_type": "markdown",
   "metadata": {},
   "source": [
    "<a id='3.1'></a>\n",
    "## 4.1. Data Cleaning"
   ]
  },
  {
   "cell_type": "code",
   "execution_count": 16,
   "metadata": {
    "ExecuteTime": {
     "end_time": "2022-05-09T22:27:23.329667Z",
     "start_time": "2022-05-09T22:27:23.224574Z"
    }
   },
   "outputs": [
    {
     "name": "stdout",
     "output_type": "stream",
     "text": [
      "Null Values = True\n"
     ]
    }
   ],
   "source": [
    "#Checking for any null values and removing the null values'''\n",
    "print('Null Values =',dataset.isnull().values.any())"
   ]
  },
  {
   "cell_type": "markdown",
   "metadata": {},
   "source": [
    "Given that there are null values, we need to clean the data by filling the *NaNs* with the last available values. "
   ]
  },
  {
   "cell_type": "code",
   "execution_count": 17,
   "metadata": {
    "ExecuteTime": {
     "end_time": "2022-05-09T22:27:25.503212Z",
     "start_time": "2022-05-09T22:27:24.456350Z"
    }
   },
   "outputs": [],
   "source": [
    "dataset[dataset.columns.values] = dataset[dataset.columns.values].ffill()"
   ]
  },
  {
   "cell_type": "code",
   "execution_count": 18,
   "metadata": {
    "ExecuteTime": {
     "end_time": "2022-05-09T22:27:27.602304Z",
     "start_time": "2022-05-09T22:27:27.404996Z"
    }
   },
   "outputs": [],
   "source": [
    "dataset=dataset.drop(columns=['Timestamp'])"
   ]
  },
  {
   "cell_type": "markdown",
   "metadata": {},
   "source": [
    "<a id='3.2'></a>\n",
    "## 4.2. Preparing the data for classification"
   ]
  },
  {
   "cell_type": "markdown",
   "metadata": {},
   "source": [
    "We attach a label to each movement: \n",
    "* **1** if the signal is that short term price will go up as compared to the long term. \n",
    "* **0** if the signal is that short term price will go down as compared to the long term."
   ]
  },
  {
   "cell_type": "code",
   "execution_count": 19,
   "metadata": {
    "ExecuteTime": {
     "end_time": "2022-05-09T22:27:29.863822Z",
     "start_time": "2022-05-09T22:27:28.910185Z"
    }
   },
   "outputs": [],
   "source": [
    "# Initialize the `signals` DataFrame with the `signal` column\n",
    "#datas['PriceMove'] = 0.0\n",
    "\n",
    "# Create short simple moving average over the short window\n",
    "dataset['short_mavg'] = dataset['Close'].rolling(window=10, min_periods=1, center=False).mean()\n",
    "\n",
    "# Create long simple moving average over the long window\n",
    "dataset['long_mavg'] = dataset['Close'].rolling(window=60, min_periods=1, center=False).mean()\n",
    "\n",
    "# Create signals\n",
    "dataset['signal'] = np.where(dataset['short_mavg'] > dataset['long_mavg'], 1.0, 0.0)"
   ]
  },
  {
   "cell_type": "code",
   "execution_count": 20,
   "metadata": {
    "ExecuteTime": {
     "end_time": "2022-05-09T22:27:31.985031Z",
     "start_time": "2022-05-09T22:27:31.959186Z"
    }
   },
   "outputs": [
    {
     "data": {
      "text/html": [
       "<div>\n",
       "<style scoped>\n",
       "    .dataframe tbody tr th:only-of-type {\n",
       "        vertical-align: middle;\n",
       "    }\n",
       "\n",
       "    .dataframe tbody tr th {\n",
       "        vertical-align: top;\n",
       "    }\n",
       "\n",
       "    .dataframe thead th {\n",
       "        text-align: right;\n",
       "    }\n",
       "</style>\n",
       "<table border=\"1\" class=\"dataframe\">\n",
       "  <thead>\n",
       "    <tr style=\"text-align: right;\">\n",
       "      <th></th>\n",
       "      <th>Open</th>\n",
       "      <th>High</th>\n",
       "      <th>Low</th>\n",
       "      <th>Close</th>\n",
       "      <th>Volume_(BTC)</th>\n",
       "      <th>Volume_(Currency)</th>\n",
       "      <th>Weighted_Price</th>\n",
       "      <th>short_mavg</th>\n",
       "      <th>long_mavg</th>\n",
       "      <th>signal</th>\n",
       "    </tr>\n",
       "  </thead>\n",
       "  <tbody>\n",
       "    <tr>\n",
       "      <th>4857372</th>\n",
       "      <td>58714.31</td>\n",
       "      <td>58714.31</td>\n",
       "      <td>58686.00</td>\n",
       "      <td>58686.00</td>\n",
       "      <td>1.384</td>\n",
       "      <td>81259.372</td>\n",
       "      <td>58692.753</td>\n",
       "      <td>58695.262</td>\n",
       "      <td>58667.759</td>\n",
       "      <td>1.0</td>\n",
       "    </tr>\n",
       "    <tr>\n",
       "      <th>4857373</th>\n",
       "      <td>58683.97</td>\n",
       "      <td>58693.43</td>\n",
       "      <td>58683.97</td>\n",
       "      <td>58685.81</td>\n",
       "      <td>7.295</td>\n",
       "      <td>428158.147</td>\n",
       "      <td>58693.227</td>\n",
       "      <td>58693.564</td>\n",
       "      <td>58667.410</td>\n",
       "      <td>1.0</td>\n",
       "    </tr>\n",
       "    <tr>\n",
       "      <th>4857374</th>\n",
       "      <td>58693.43</td>\n",
       "      <td>58723.84</td>\n",
       "      <td>58693.43</td>\n",
       "      <td>58723.84</td>\n",
       "      <td>1.706</td>\n",
       "      <td>100117.070</td>\n",
       "      <td>58696.198</td>\n",
       "      <td>58698.178</td>\n",
       "      <td>58667.708</td>\n",
       "      <td>1.0</td>\n",
       "    </tr>\n",
       "    <tr>\n",
       "      <th>4857375</th>\n",
       "      <td>58742.18</td>\n",
       "      <td>58770.38</td>\n",
       "      <td>58742.18</td>\n",
       "      <td>58760.59</td>\n",
       "      <td>0.720</td>\n",
       "      <td>42332.959</td>\n",
       "      <td>58761.866</td>\n",
       "      <td>58709.824</td>\n",
       "      <td>58668.532</td>\n",
       "      <td>1.0</td>\n",
       "    </tr>\n",
       "    <tr>\n",
       "      <th>4857376</th>\n",
       "      <td>58767.75</td>\n",
       "      <td>58778.18</td>\n",
       "      <td>58755.97</td>\n",
       "      <td>58778.18</td>\n",
       "      <td>2.713</td>\n",
       "      <td>159417.751</td>\n",
       "      <td>58764.349</td>\n",
       "      <td>58718.698</td>\n",
       "      <td>58670.551</td>\n",
       "      <td>1.0</td>\n",
       "    </tr>\n",
       "  </tbody>\n",
       "</table>\n",
       "</div>"
      ],
      "text/plain": [
       "             Open      High       Low     Close  Volume_(BTC)  Volume_(Currency)  Weighted_Price  \\\n",
       "4857372  58714.31  58714.31  58686.00  58686.00         1.384          81259.372       58692.753   \n",
       "4857373  58683.97  58693.43  58683.97  58685.81         7.295         428158.147       58693.227   \n",
       "4857374  58693.43  58723.84  58693.43  58723.84         1.706         100117.070       58696.198   \n",
       "4857375  58742.18  58770.38  58742.18  58760.59         0.720          42332.959       58761.866   \n",
       "4857376  58767.75  58778.18  58755.97  58778.18         2.713         159417.751       58764.349   \n",
       "\n",
       "         short_mavg  long_mavg  signal  \n",
       "4857372   58695.262  58667.759     1.0  \n",
       "4857373   58693.564  58667.410     1.0  \n",
       "4857374   58698.178  58667.708     1.0  \n",
       "4857375   58709.824  58668.532     1.0  \n",
       "4857376   58718.698  58670.551     1.0  "
      ]
     },
     "execution_count": 20,
     "metadata": {},
     "output_type": "execute_result"
    }
   ],
   "source": [
    "dataset.tail()"
   ]
  },
  {
   "cell_type": "markdown",
   "metadata": {},
   "source": [
    "<a id='3.3'></a>\n",
    "## 4.3. Feature Engineering"
   ]
  },
  {
   "cell_type": "markdown",
   "metadata": {},
   "source": [
    "We begin by the constructing a dataset that contains the predictors which will be used to make the predictions, and the output variable.\n",
    "\n",
    "The current Data of the bicoin consists of date, open, high, low, close and Volume. Using this data we calculate the following  technical indicators:\n",
    "* **Moving Average** : A moving average provides an indication of the trend of the price movement by cut down the amount of \"noise\" on a price chart. \n",
    "* **Stochastic Oscillator %K and %D** : A stochastic oscillator is a momentum indicator comparing a particular closing price of a security to a range of its prices over a certain period of time. %K and %D are slow and fast indicators.\n",
    "* **Relative Strength Index(RSI)** :It is a momentum indicator that measures the magnitude of recent price changes to evaluate overbought or oversold conditions in the price of a stock or other asset. \n",
    "* **Rate Of Change(ROC)**: It is a momentum oscillator, which measures the percentage change between the current price and the n period past price. \n",
    "* **Momentum (MOM)** : It is the rate of acceleration of a security's price or volume – that is, the speed at which the price is changing."
   ]
  },
  {
   "cell_type": "code",
   "execution_count": 21,
   "metadata": {
    "ExecuteTime": {
     "end_time": "2022-05-09T22:28:01.564705Z",
     "start_time": "2022-05-09T22:27:35.529659Z"
    }
   },
   "outputs": [],
   "source": [
    "#calculation of exponential moving average\n",
    "def EMA(df, n):\n",
    "    EMA = pd.Series(df['Close'].ewm(span=n, min_periods=n).mean(), name='EMA_' + str(n))\n",
    "    return EMA\n",
    "dataset['EMA10'] = EMA(dataset, 10)\n",
    "dataset['EMA30'] = EMA(dataset, 30)\n",
    "dataset['EMA200'] = EMA(dataset, 200)\n",
    "dataset.head()\n",
    "\n",
    "#calculation of rate of change\n",
    "def ROC(df, n):  \n",
    "    M = df.diff(n - 1)  \n",
    "    N = df.shift(n - 1)  \n",
    "    ROC = pd.Series(((M / N) * 100), name = 'ROC_' + str(n))   \n",
    "    return ROC\n",
    "dataset['ROC10'] = ROC(dataset['Close'], 10)\n",
    "dataset['ROC30'] = ROC(dataset['Close'], 30)\n",
    "\n",
    "#Calculation of price momentum\n",
    "def MOM(df, n):   \n",
    "    MOM = pd.Series(df.diff(n), name='Momentum_' + str(n))   \n",
    "    return MOM\n",
    "dataset['MOM10'] = MOM(dataset['Close'], 10)\n",
    "dataset['MOM30'] = MOM(dataset['Close'], 30)\n",
    "\n",
    "#calculation of relative strength index\n",
    "def RSI(series, period):\n",
    " delta = series.diff().dropna()\n",
    " u = delta * 0\n",
    " d = u.copy()\n",
    " u[delta > 0] = delta[delta > 0]\n",
    " d[delta < 0] = -delta[delta < 0]\n",
    " u[u.index[period-1]] = np.mean( u[:period] ) #first value is sum of avg gains\n",
    " u = u.drop(u.index[:(period-1)])\n",
    " d[d.index[period-1]] = np.mean( d[:period] ) #first value is sum of avg losses\n",
    " d = d.drop(d.index[:(period-1)])\n",
    " rs = u.ewm(com=period-1, adjust=False).mean() / \\\n",
    " d.ewm(com=period-1, adjust=False).mean()\n",
    " return 100 - 100 / (1 + rs)\n",
    "dataset['RSI10'] = RSI(dataset['Close'], 10)\n",
    "dataset['RSI30'] = RSI(dataset['Close'], 30)\n",
    "dataset['RSI200'] = RSI(dataset['Close'], 200)\n",
    "\n",
    "#calculation of stochastic osillator.\n",
    "\n",
    "def STOK(close, low, high, n): \n",
    " STOK = ((close - low.rolling(n).min()) / (high.rolling(n).max() - low.rolling(n).min())) * 100\n",
    " return STOK\n",
    "\n",
    "def STOD(close, low, high, n):\n",
    " STOK = ((close - low.rolling(n).min()) / (high.rolling(n).max() - low.rolling(n).min())) * 100\n",
    " STOD = STOK.rolling(3).mean()\n",
    " return STOD\n",
    "\n",
    "dataset['%K10'] = STOK(dataset['Close'], dataset['Low'], dataset['High'], 10)\n",
    "dataset['%D10'] = STOD(dataset['Close'], dataset['Low'], dataset['High'], 10)\n",
    "dataset['%K30'] = STOK(dataset['Close'], dataset['Low'], dataset['High'], 30)\n",
    "dataset['%D30'] = STOD(dataset['Close'], dataset['Low'], dataset['High'], 30)\n",
    "dataset['%K200'] = STOK(dataset['Close'], dataset['Low'], dataset['High'], 200)\n",
    "dataset['%D200'] = STOD(dataset['Close'], dataset['Low'], dataset['High'], 200)"
   ]
  },
  {
   "cell_type": "code",
   "execution_count": 22,
   "metadata": {
    "ExecuteTime": {
     "end_time": "2022-05-09T22:28:14.504655Z",
     "start_time": "2022-05-09T22:28:13.310858Z"
    }
   },
   "outputs": [
    {
     "data": {
      "text/html": [
       "<div>\n",
       "<style scoped>\n",
       "    .dataframe tbody tr th:only-of-type {\n",
       "        vertical-align: middle;\n",
       "    }\n",
       "\n",
       "    .dataframe tbody tr th {\n",
       "        vertical-align: top;\n",
       "    }\n",
       "\n",
       "    .dataframe thead th {\n",
       "        text-align: right;\n",
       "    }\n",
       "</style>\n",
       "<table border=\"1\" class=\"dataframe\">\n",
       "  <thead>\n",
       "    <tr style=\"text-align: right;\">\n",
       "      <th></th>\n",
       "      <th>Open</th>\n",
       "      <th>High</th>\n",
       "      <th>Low</th>\n",
       "      <th>Close</th>\n",
       "      <th>Volume_(BTC)</th>\n",
       "      <th>Volume_(Currency)</th>\n",
       "      <th>Weighted_Price</th>\n",
       "      <th>short_mavg</th>\n",
       "      <th>long_mavg</th>\n",
       "      <th>signal</th>\n",
       "      <th>...</th>\n",
       "      <th>RSI200</th>\n",
       "      <th>%K10</th>\n",
       "      <th>%D10</th>\n",
       "      <th>%K30</th>\n",
       "      <th>%D30</th>\n",
       "      <th>%K200</th>\n",
       "      <th>%D200</th>\n",
       "      <th>MA21</th>\n",
       "      <th>MA63</th>\n",
       "      <th>MA252</th>\n",
       "    </tr>\n",
       "  </thead>\n",
       "  <tbody>\n",
       "    <tr>\n",
       "      <th>4857372</th>\n",
       "      <td>58714.31</td>\n",
       "      <td>58714.31</td>\n",
       "      <td>58686.00</td>\n",
       "      <td>58686.00</td>\n",
       "      <td>1.384</td>\n",
       "      <td>81259.372</td>\n",
       "      <td>58692.753</td>\n",
       "      <td>58695.262</td>\n",
       "      <td>58667.759</td>\n",
       "      <td>1.0</td>\n",
       "      <td>...</td>\n",
       "      <td>49.479</td>\n",
       "      <td>35.393</td>\n",
       "      <td>61.578</td>\n",
       "      <td>51.697</td>\n",
       "      <td>68.138</td>\n",
       "      <td>39.264</td>\n",
       "      <td>47.840</td>\n",
       "      <td>58695.262</td>\n",
       "      <td>58676.974</td>\n",
       "      <td>58717.263</td>\n",
       "    </tr>\n",
       "    <tr>\n",
       "      <th>4857373</th>\n",
       "      <td>58683.97</td>\n",
       "      <td>58693.43</td>\n",
       "      <td>58683.97</td>\n",
       "      <td>58685.81</td>\n",
       "      <td>7.295</td>\n",
       "      <td>428158.147</td>\n",
       "      <td>58693.227</td>\n",
       "      <td>58693.564</td>\n",
       "      <td>58667.410</td>\n",
       "      <td>1.0</td>\n",
       "      <td>...</td>\n",
       "      <td>49.478</td>\n",
       "      <td>35.232</td>\n",
       "      <td>44.602</td>\n",
       "      <td>51.583</td>\n",
       "      <td>57.317</td>\n",
       "      <td>34.155</td>\n",
       "      <td>39.806</td>\n",
       "      <td>58693.564</td>\n",
       "      <td>58675.469</td>\n",
       "      <td>58717.926</td>\n",
       "    </tr>\n",
       "    <tr>\n",
       "      <th>4857374</th>\n",
       "      <td>58693.43</td>\n",
       "      <td>58723.84</td>\n",
       "      <td>58693.43</td>\n",
       "      <td>58723.84</td>\n",
       "      <td>1.706</td>\n",
       "      <td>100117.070</td>\n",
       "      <td>58696.198</td>\n",
       "      <td>58698.178</td>\n",
       "      <td>58667.708</td>\n",
       "      <td>1.0</td>\n",
       "      <td>...</td>\n",
       "      <td>49.822</td>\n",
       "      <td>67.380</td>\n",
       "      <td>46.002</td>\n",
       "      <td>74.385</td>\n",
       "      <td>59.222</td>\n",
       "      <td>41.881</td>\n",
       "      <td>38.433</td>\n",
       "      <td>58698.178</td>\n",
       "      <td>58675.542</td>\n",
       "      <td>58718.662</td>\n",
       "    </tr>\n",
       "    <tr>\n",
       "      <th>4857375</th>\n",
       "      <td>58742.18</td>\n",
       "      <td>58770.38</td>\n",
       "      <td>58742.18</td>\n",
       "      <td>58760.59</td>\n",
       "      <td>0.720</td>\n",
       "      <td>42332.959</td>\n",
       "      <td>58761.866</td>\n",
       "      <td>58709.824</td>\n",
       "      <td>58668.532</td>\n",
       "      <td>1.0</td>\n",
       "      <td>...</td>\n",
       "      <td>50.153</td>\n",
       "      <td>91.131</td>\n",
       "      <td>64.581</td>\n",
       "      <td>94.261</td>\n",
       "      <td>73.410</td>\n",
       "      <td>51.701</td>\n",
       "      <td>42.579</td>\n",
       "      <td>58709.824</td>\n",
       "      <td>58675.947</td>\n",
       "      <td>58719.380</td>\n",
       "    </tr>\n",
       "    <tr>\n",
       "      <th>4857376</th>\n",
       "      <td>58767.75</td>\n",
       "      <td>58778.18</td>\n",
       "      <td>58755.97</td>\n",
       "      <td>58778.18</td>\n",
       "      <td>2.713</td>\n",
       "      <td>159417.751</td>\n",
       "      <td>58764.349</td>\n",
       "      <td>58718.698</td>\n",
       "      <td>58670.551</td>\n",
       "      <td>1.0</td>\n",
       "      <td>...</td>\n",
       "      <td>50.310</td>\n",
       "      <td>100.000</td>\n",
       "      <td>86.170</td>\n",
       "      <td>100.000</td>\n",
       "      <td>89.549</td>\n",
       "      <td>56.401</td>\n",
       "      <td>49.994</td>\n",
       "      <td>58718.698</td>\n",
       "      <td>58677.057</td>\n",
       "      <td>58720.382</td>\n",
       "    </tr>\n",
       "  </tbody>\n",
       "</table>\n",
       "<p>5 rows × 29 columns</p>\n",
       "</div>"
      ],
      "text/plain": [
       "             Open      High       Low     Close  Volume_(BTC)  Volume_(Currency)  Weighted_Price  \\\n",
       "4857372  58714.31  58714.31  58686.00  58686.00         1.384          81259.372       58692.753   \n",
       "4857373  58683.97  58693.43  58683.97  58685.81         7.295         428158.147       58693.227   \n",
       "4857374  58693.43  58723.84  58693.43  58723.84         1.706         100117.070       58696.198   \n",
       "4857375  58742.18  58770.38  58742.18  58760.59         0.720          42332.959       58761.866   \n",
       "4857376  58767.75  58778.18  58755.97  58778.18         2.713         159417.751       58764.349   \n",
       "\n",
       "         short_mavg  long_mavg  signal  ...  RSI200     %K10    %D10     %K30    %D30   %K200  \\\n",
       "4857372   58695.262  58667.759     1.0  ...  49.479   35.393  61.578   51.697  68.138  39.264   \n",
       "4857373   58693.564  58667.410     1.0  ...  49.478   35.232  44.602   51.583  57.317  34.155   \n",
       "4857374   58698.178  58667.708     1.0  ...  49.822   67.380  46.002   74.385  59.222  41.881   \n",
       "4857375   58709.824  58668.532     1.0  ...  50.153   91.131  64.581   94.261  73.410  51.701   \n",
       "4857376   58718.698  58670.551     1.0  ...  50.310  100.000  86.170  100.000  89.549  56.401   \n",
       "\n",
       "          %D200       MA21       MA63      MA252  \n",
       "4857372  47.840  58695.262  58676.974  58717.263  \n",
       "4857373  39.806  58693.564  58675.469  58717.926  \n",
       "4857374  38.433  58698.178  58675.542  58718.662  \n",
       "4857375  42.579  58709.824  58675.947  58719.380  \n",
       "4857376  49.994  58718.698  58677.057  58720.382  \n",
       "\n",
       "[5 rows x 29 columns]"
      ]
     },
     "execution_count": 22,
     "metadata": {},
     "output_type": "execute_result"
    }
   ],
   "source": [
    "#Calculation of moving average\n",
    "def MA(df, n):\n",
    "    MA = pd.Series(df['Close'].rolling(n, min_periods=n).mean(), name='MA_' + str(n))\n",
    "    return MA\n",
    "dataset['MA21'] = MA(dataset, 10)\n",
    "dataset['MA63'] = MA(dataset, 30)\n",
    "dataset['MA252'] = MA(dataset, 200)\n",
    "dataset.tail()"
   ]
  },
  {
   "cell_type": "code",
   "execution_count": 23,
   "metadata": {
    "ExecuteTime": {
     "end_time": "2022-05-09T22:28:18.984604Z",
     "start_time": "2022-05-09T22:28:18.905868Z"
    }
   },
   "outputs": [
    {
     "data": {
      "text/html": [
       "<div>\n",
       "<style scoped>\n",
       "    .dataframe tbody tr th:only-of-type {\n",
       "        vertical-align: middle;\n",
       "    }\n",
       "\n",
       "    .dataframe tbody tr th {\n",
       "        vertical-align: top;\n",
       "    }\n",
       "\n",
       "    .dataframe thead th {\n",
       "        text-align: right;\n",
       "    }\n",
       "</style>\n",
       "<table border=\"1\" class=\"dataframe\">\n",
       "  <thead>\n",
       "    <tr style=\"text-align: right;\">\n",
       "      <th></th>\n",
       "      <th>Open</th>\n",
       "      <th>High</th>\n",
       "      <th>Low</th>\n",
       "      <th>Close</th>\n",
       "      <th>Volume_(BTC)</th>\n",
       "      <th>Volume_(Currency)</th>\n",
       "      <th>Weighted_Price</th>\n",
       "      <th>short_mavg</th>\n",
       "      <th>long_mavg</th>\n",
       "      <th>signal</th>\n",
       "      <th>...</th>\n",
       "      <th>RSI200</th>\n",
       "      <th>%K10</th>\n",
       "      <th>%D10</th>\n",
       "      <th>%K30</th>\n",
       "      <th>%D30</th>\n",
       "      <th>%K200</th>\n",
       "      <th>%D200</th>\n",
       "      <th>MA21</th>\n",
       "      <th>MA63</th>\n",
       "      <th>MA252</th>\n",
       "    </tr>\n",
       "  </thead>\n",
       "  <tbody>\n",
       "    <tr>\n",
       "      <th>4857372</th>\n",
       "      <td>58714.31</td>\n",
       "      <td>58714.31</td>\n",
       "      <td>58686.00</td>\n",
       "      <td>58686.00</td>\n",
       "      <td>1.384</td>\n",
       "      <td>81259.372</td>\n",
       "      <td>58692.753</td>\n",
       "      <td>58695.262</td>\n",
       "      <td>58667.759</td>\n",
       "      <td>1.0</td>\n",
       "      <td>...</td>\n",
       "      <td>49.479</td>\n",
       "      <td>35.393</td>\n",
       "      <td>61.578</td>\n",
       "      <td>51.697</td>\n",
       "      <td>68.138</td>\n",
       "      <td>39.264</td>\n",
       "      <td>47.840</td>\n",
       "      <td>58695.262</td>\n",
       "      <td>58676.974</td>\n",
       "      <td>58717.263</td>\n",
       "    </tr>\n",
       "    <tr>\n",
       "      <th>4857373</th>\n",
       "      <td>58683.97</td>\n",
       "      <td>58693.43</td>\n",
       "      <td>58683.97</td>\n",
       "      <td>58685.81</td>\n",
       "      <td>7.295</td>\n",
       "      <td>428158.147</td>\n",
       "      <td>58693.227</td>\n",
       "      <td>58693.564</td>\n",
       "      <td>58667.410</td>\n",
       "      <td>1.0</td>\n",
       "      <td>...</td>\n",
       "      <td>49.478</td>\n",
       "      <td>35.232</td>\n",
       "      <td>44.602</td>\n",
       "      <td>51.583</td>\n",
       "      <td>57.317</td>\n",
       "      <td>34.155</td>\n",
       "      <td>39.806</td>\n",
       "      <td>58693.564</td>\n",
       "      <td>58675.469</td>\n",
       "      <td>58717.926</td>\n",
       "    </tr>\n",
       "    <tr>\n",
       "      <th>4857374</th>\n",
       "      <td>58693.43</td>\n",
       "      <td>58723.84</td>\n",
       "      <td>58693.43</td>\n",
       "      <td>58723.84</td>\n",
       "      <td>1.706</td>\n",
       "      <td>100117.070</td>\n",
       "      <td>58696.198</td>\n",
       "      <td>58698.178</td>\n",
       "      <td>58667.708</td>\n",
       "      <td>1.0</td>\n",
       "      <td>...</td>\n",
       "      <td>49.822</td>\n",
       "      <td>67.380</td>\n",
       "      <td>46.002</td>\n",
       "      <td>74.385</td>\n",
       "      <td>59.222</td>\n",
       "      <td>41.881</td>\n",
       "      <td>38.433</td>\n",
       "      <td>58698.178</td>\n",
       "      <td>58675.542</td>\n",
       "      <td>58718.662</td>\n",
       "    </tr>\n",
       "    <tr>\n",
       "      <th>4857375</th>\n",
       "      <td>58742.18</td>\n",
       "      <td>58770.38</td>\n",
       "      <td>58742.18</td>\n",
       "      <td>58760.59</td>\n",
       "      <td>0.720</td>\n",
       "      <td>42332.959</td>\n",
       "      <td>58761.866</td>\n",
       "      <td>58709.824</td>\n",
       "      <td>58668.532</td>\n",
       "      <td>1.0</td>\n",
       "      <td>...</td>\n",
       "      <td>50.153</td>\n",
       "      <td>91.131</td>\n",
       "      <td>64.581</td>\n",
       "      <td>94.261</td>\n",
       "      <td>73.410</td>\n",
       "      <td>51.701</td>\n",
       "      <td>42.579</td>\n",
       "      <td>58709.824</td>\n",
       "      <td>58675.947</td>\n",
       "      <td>58719.380</td>\n",
       "    </tr>\n",
       "    <tr>\n",
       "      <th>4857376</th>\n",
       "      <td>58767.75</td>\n",
       "      <td>58778.18</td>\n",
       "      <td>58755.97</td>\n",
       "      <td>58778.18</td>\n",
       "      <td>2.713</td>\n",
       "      <td>159417.751</td>\n",
       "      <td>58764.349</td>\n",
       "      <td>58718.698</td>\n",
       "      <td>58670.551</td>\n",
       "      <td>1.0</td>\n",
       "      <td>...</td>\n",
       "      <td>50.310</td>\n",
       "      <td>100.000</td>\n",
       "      <td>86.170</td>\n",
       "      <td>100.000</td>\n",
       "      <td>89.549</td>\n",
       "      <td>56.401</td>\n",
       "      <td>49.994</td>\n",
       "      <td>58718.698</td>\n",
       "      <td>58677.057</td>\n",
       "      <td>58720.382</td>\n",
       "    </tr>\n",
       "  </tbody>\n",
       "</table>\n",
       "<p>5 rows × 29 columns</p>\n",
       "</div>"
      ],
      "text/plain": [
       "             Open      High       Low     Close  Volume_(BTC)  Volume_(Currency)  Weighted_Price  \\\n",
       "4857372  58714.31  58714.31  58686.00  58686.00         1.384          81259.372       58692.753   \n",
       "4857373  58683.97  58693.43  58683.97  58685.81         7.295         428158.147       58693.227   \n",
       "4857374  58693.43  58723.84  58693.43  58723.84         1.706         100117.070       58696.198   \n",
       "4857375  58742.18  58770.38  58742.18  58760.59         0.720          42332.959       58761.866   \n",
       "4857376  58767.75  58778.18  58755.97  58778.18         2.713         159417.751       58764.349   \n",
       "\n",
       "         short_mavg  long_mavg  signal  ...  RSI200     %K10    %D10     %K30    %D30   %K200  \\\n",
       "4857372   58695.262  58667.759     1.0  ...  49.479   35.393  61.578   51.697  68.138  39.264   \n",
       "4857373   58693.564  58667.410     1.0  ...  49.478   35.232  44.602   51.583  57.317  34.155   \n",
       "4857374   58698.178  58667.708     1.0  ...  49.822   67.380  46.002   74.385  59.222  41.881   \n",
       "4857375   58709.824  58668.532     1.0  ...  50.153   91.131  64.581   94.261  73.410  51.701   \n",
       "4857376   58718.698  58670.551     1.0  ...  50.310  100.000  86.170  100.000  89.549  56.401   \n",
       "\n",
       "          %D200       MA21       MA63      MA252  \n",
       "4857372  47.840  58695.262  58676.974  58717.263  \n",
       "4857373  39.806  58693.564  58675.469  58717.926  \n",
       "4857374  38.433  58698.178  58675.542  58718.662  \n",
       "4857375  42.579  58709.824  58675.947  58719.380  \n",
       "4857376  49.994  58718.698  58677.057  58720.382  \n",
       "\n",
       "[5 rows x 29 columns]"
      ]
     },
     "execution_count": 23,
     "metadata": {},
     "output_type": "execute_result"
    }
   ],
   "source": [
    "dataset.tail()"
   ]
  },
  {
   "cell_type": "code",
   "execution_count": 24,
   "metadata": {
    "ExecuteTime": {
     "end_time": "2022-05-09T22:28:26.975057Z",
     "start_time": "2022-05-09T22:28:23.451875Z"
    }
   },
   "outputs": [],
   "source": [
    "#excluding columns that are not needed for our prediction.\n",
    "\n",
    "dataset=dataset.drop(['High','Low','Open', 'Volume_(Currency)','short_mavg','long_mavg'], axis=1)"
   ]
  },
  {
   "cell_type": "code",
   "execution_count": 25,
   "metadata": {
    "ExecuteTime": {
     "end_time": "2022-05-09T22:28:29.825131Z",
     "start_time": "2022-05-09T22:28:28.047538Z"
    }
   },
   "outputs": [],
   "source": [
    "dataset = dataset.dropna(axis=0)"
   ]
  },
  {
   "cell_type": "code",
   "execution_count": 26,
   "metadata": {
    "ExecuteTime": {
     "end_time": "2022-05-09T22:28:30.835587Z",
     "start_time": "2022-05-09T22:28:30.774669Z"
    }
   },
   "outputs": [
    {
     "data": {
      "text/html": [
       "<div>\n",
       "<style scoped>\n",
       "    .dataframe tbody tr th:only-of-type {\n",
       "        vertical-align: middle;\n",
       "    }\n",
       "\n",
       "    .dataframe tbody tr th {\n",
       "        vertical-align: top;\n",
       "    }\n",
       "\n",
       "    .dataframe thead th {\n",
       "        text-align: right;\n",
       "    }\n",
       "</style>\n",
       "<table border=\"1\" class=\"dataframe\">\n",
       "  <thead>\n",
       "    <tr style=\"text-align: right;\">\n",
       "      <th></th>\n",
       "      <th>Close</th>\n",
       "      <th>Volume_(BTC)</th>\n",
       "      <th>Weighted_Price</th>\n",
       "      <th>signal</th>\n",
       "      <th>EMA10</th>\n",
       "      <th>EMA30</th>\n",
       "      <th>EMA200</th>\n",
       "      <th>ROC10</th>\n",
       "      <th>ROC30</th>\n",
       "      <th>MOM10</th>\n",
       "      <th>...</th>\n",
       "      <th>RSI200</th>\n",
       "      <th>%K10</th>\n",
       "      <th>%D10</th>\n",
       "      <th>%K30</th>\n",
       "      <th>%D30</th>\n",
       "      <th>%K200</th>\n",
       "      <th>%D200</th>\n",
       "      <th>MA21</th>\n",
       "      <th>MA63</th>\n",
       "      <th>MA252</th>\n",
       "    </tr>\n",
       "  </thead>\n",
       "  <tbody>\n",
       "    <tr>\n",
       "      <th>4857372</th>\n",
       "      <td>58686.00</td>\n",
       "      <td>1.384</td>\n",
       "      <td>58692.753</td>\n",
       "      <td>1.0</td>\n",
       "      <td>58691.231</td>\n",
       "      <td>58675.538</td>\n",
       "      <td>58722.003</td>\n",
       "      <td>-0.029</td>\n",
       "      <td>-0.077</td>\n",
       "      <td>19.46</td>\n",
       "      <td>...</td>\n",
       "      <td>49.479</td>\n",
       "      <td>35.393</td>\n",
       "      <td>61.578</td>\n",
       "      <td>51.697</td>\n",
       "      <td>68.138</td>\n",
       "      <td>39.264</td>\n",
       "      <td>47.840</td>\n",
       "      <td>58695.262</td>\n",
       "      <td>58676.974</td>\n",
       "      <td>58717.263</td>\n",
       "    </tr>\n",
       "    <tr>\n",
       "      <th>4857373</th>\n",
       "      <td>58685.81</td>\n",
       "      <td>7.295</td>\n",
       "      <td>58693.227</td>\n",
       "      <td>1.0</td>\n",
       "      <td>58690.246</td>\n",
       "      <td>58676.201</td>\n",
       "      <td>58721.643</td>\n",
       "      <td>0.014</td>\n",
       "      <td>-0.061</td>\n",
       "      <td>-16.98</td>\n",
       "      <td>...</td>\n",
       "      <td>49.478</td>\n",
       "      <td>35.232</td>\n",
       "      <td>44.602</td>\n",
       "      <td>51.583</td>\n",
       "      <td>57.317</td>\n",
       "      <td>34.155</td>\n",
       "      <td>39.806</td>\n",
       "      <td>58693.564</td>\n",
       "      <td>58675.469</td>\n",
       "      <td>58717.926</td>\n",
       "    </tr>\n",
       "    <tr>\n",
       "      <th>4857374</th>\n",
       "      <td>58723.84</td>\n",
       "      <td>1.706</td>\n",
       "      <td>58696.198</td>\n",
       "      <td>1.0</td>\n",
       "      <td>58696.354</td>\n",
       "      <td>58679.274</td>\n",
       "      <td>58721.665</td>\n",
       "      <td>0.136</td>\n",
       "      <td>-0.042</td>\n",
       "      <td>46.14</td>\n",
       "      <td>...</td>\n",
       "      <td>49.822</td>\n",
       "      <td>67.380</td>\n",
       "      <td>46.002</td>\n",
       "      <td>74.385</td>\n",
       "      <td>59.222</td>\n",
       "      <td>41.881</td>\n",
       "      <td>38.433</td>\n",
       "      <td>58698.178</td>\n",
       "      <td>58675.542</td>\n",
       "      <td>58718.662</td>\n",
       "    </tr>\n",
       "    <tr>\n",
       "      <th>4857375</th>\n",
       "      <td>58760.59</td>\n",
       "      <td>0.720</td>\n",
       "      <td>58761.866</td>\n",
       "      <td>1.0</td>\n",
       "      <td>58708.033</td>\n",
       "      <td>58684.520</td>\n",
       "      <td>58722.052</td>\n",
       "      <td>0.121</td>\n",
       "      <td>0.027</td>\n",
       "      <td>116.46</td>\n",
       "      <td>...</td>\n",
       "      <td>50.153</td>\n",
       "      <td>91.131</td>\n",
       "      <td>64.581</td>\n",
       "      <td>94.261</td>\n",
       "      <td>73.410</td>\n",
       "      <td>51.701</td>\n",
       "      <td>42.579</td>\n",
       "      <td>58709.824</td>\n",
       "      <td>58675.947</td>\n",
       "      <td>58719.380</td>\n",
       "    </tr>\n",
       "    <tr>\n",
       "      <th>4857376</th>\n",
       "      <td>58778.18</td>\n",
       "      <td>2.713</td>\n",
       "      <td>58764.349</td>\n",
       "      <td>1.0</td>\n",
       "      <td>58720.787</td>\n",
       "      <td>58690.563</td>\n",
       "      <td>58722.610</td>\n",
       "      <td>0.133</td>\n",
       "      <td>0.072</td>\n",
       "      <td>88.74</td>\n",
       "      <td>...</td>\n",
       "      <td>50.310</td>\n",
       "      <td>100.000</td>\n",
       "      <td>86.170</td>\n",
       "      <td>100.000</td>\n",
       "      <td>89.549</td>\n",
       "      <td>56.401</td>\n",
       "      <td>49.994</td>\n",
       "      <td>58718.698</td>\n",
       "      <td>58677.057</td>\n",
       "      <td>58720.382</td>\n",
       "    </tr>\n",
       "  </tbody>\n",
       "</table>\n",
       "<p>5 rows × 23 columns</p>\n",
       "</div>"
      ],
      "text/plain": [
       "            Close  Volume_(BTC)  Weighted_Price  signal      EMA10      EMA30     EMA200  ROC10  \\\n",
       "4857372  58686.00         1.384       58692.753     1.0  58691.231  58675.538  58722.003 -0.029   \n",
       "4857373  58685.81         7.295       58693.227     1.0  58690.246  58676.201  58721.643  0.014   \n",
       "4857374  58723.84         1.706       58696.198     1.0  58696.354  58679.274  58721.665  0.136   \n",
       "4857375  58760.59         0.720       58761.866     1.0  58708.033  58684.520  58722.052  0.121   \n",
       "4857376  58778.18         2.713       58764.349     1.0  58720.787  58690.563  58722.610  0.133   \n",
       "\n",
       "         ROC30   MOM10  ...  RSI200     %K10    %D10     %K30    %D30   %K200   %D200       MA21  \\\n",
       "4857372 -0.077   19.46  ...  49.479   35.393  61.578   51.697  68.138  39.264  47.840  58695.262   \n",
       "4857373 -0.061  -16.98  ...  49.478   35.232  44.602   51.583  57.317  34.155  39.806  58693.564   \n",
       "4857374 -0.042   46.14  ...  49.822   67.380  46.002   74.385  59.222  41.881  38.433  58698.178   \n",
       "4857375  0.027  116.46  ...  50.153   91.131  64.581   94.261  73.410  51.701  42.579  58709.824   \n",
       "4857376  0.072   88.74  ...  50.310  100.000  86.170  100.000  89.549  56.401  49.994  58718.698   \n",
       "\n",
       "              MA63      MA252  \n",
       "4857372  58676.974  58717.263  \n",
       "4857373  58675.469  58717.926  \n",
       "4857374  58675.542  58718.662  \n",
       "4857375  58675.947  58719.380  \n",
       "4857376  58677.057  58720.382  \n",
       "\n",
       "[5 rows x 23 columns]"
      ]
     },
     "execution_count": 26,
     "metadata": {},
     "output_type": "execute_result"
    }
   ],
   "source": [
    "dataset.tail()"
   ]
  },
  {
   "cell_type": "markdown",
   "metadata": {},
   "source": [
    "<a id='3.4'></a>\n",
    "## 4.4. Data Visualization"
   ]
  },
  {
   "cell_type": "code",
   "execution_count": 27,
   "metadata": {
    "ExecuteTime": {
     "end_time": "2022-05-09T22:28:40.899916Z",
     "start_time": "2022-05-09T22:28:31.736033Z"
    }
   },
   "outputs": [
    {
     "data": {
      "image/png": "[encoded data removed]",
      "text/plain": [
       "<Figure size 432x288 with 1 Axes>"
      ]
     },
     "metadata": {
      "needs_background": "light"
     },
     "output_type": "display_data"
    }
   ],
   "source": [
    "dataset[['Weighted_Price']].plot(grid=True)\n",
    "plt.show()"
   ]
  },
  {
   "cell_type": "code",
   "execution_count": 28,
   "metadata": {
    "ExecuteTime": {
     "end_time": "2022-05-09T22:28:54.949090Z",
     "start_time": "2022-05-09T22:28:41.869557Z"
    }
   },
   "outputs": [
    {
     "data": {
      "image/png": "[encoded data removed]",
      "text/plain": [
       "<Figure size 864x864 with 25 Axes>"
      ]
     },
     "metadata": {
      "needs_background": "light"
     },
     "output_type": "display_data"
    }
   ],
   "source": [
    "# histograms\n",
    "dataset.hist(sharex=False, sharey=False, xlabelsize=1, ylabelsize=1, figsize=(12,12))\n",
    "plt.show()"
   ]
  },
  {
   "cell_type": "code",
   "execution_count": 29,
   "metadata": {
    "ExecuteTime": {
     "end_time": "2022-05-09T22:28:56.324860Z",
     "start_time": "2022-05-09T22:28:55.744587Z"
    }
   },
   "outputs": [
    {
     "data": {
      "image/png": "[encoded data removed]",
      "text/plain": [
       "<Figure size 432x288 with 1 Axes>"
      ]
     },
     "metadata": {
      "needs_background": "light"
     },
     "output_type": "display_data"
    }
   ],
   "source": [
    "fig = plt.figure()\n",
    "plot = dataset.groupby(['signal']).size().plot(kind='barh', color='red')\n",
    "plt.show()"
   ]
  },
  {
   "cell_type": "markdown",
   "metadata": {},
   "source": [
    "The predicted variable is upward 52.87% out of total data-size, meaning that number\n",
    "of the buy signals were more than the number of sell signals. "
   ]
  },
  {
   "cell_type": "code",
   "execution_count": 30,
   "metadata": {
    "ExecuteTime": {
     "end_time": "2022-05-09T22:29:31.030105Z",
     "start_time": "2022-05-09T22:28:57.246033Z"
    }
   },
   "outputs": [
    {
     "data": {
      "text/plain": [
       "<AxesSubplot:title={'center':'Correlation Matrix'}>"
      ]
     },
     "execution_count": 30,
     "metadata": {},
     "output_type": "execute_result"
    },
    {
     "data": {
      "image/png": "[encoded data removed]",
      "text/plain": [
       "<Figure size 1080x1080 with 2 Axes>"
      ]
     },
     "metadata": {
      "needs_background": "light"
     },
     "output_type": "display_data"
    }
   ],
   "source": [
    "# correlation\n",
    "correlation = dataset.corr()\n",
    "plt.figure(figsize=(15,15))\n",
    "plt.title('Correlation Matrix')\n",
    "sns.heatmap(correlation, vmax=1, square=True,annot=True,cmap='cubehelix')"
   ]
  },
  {
   "cell_type": "markdown",
   "metadata": {},
   "source": [
    "<a id='4'></a>\n",
    "# 5. Evaluate Algorithms and Models"
   ]
  },
  {
   "cell_type": "markdown",
   "metadata": {},
   "source": [
    "<a id='4.1'></a>\n",
    "## 5.1. Train Test Split"
   ]
  },
  {
   "cell_type": "markdown",
   "metadata": {},
   "source": [
    "We split the dataset into 80% training set and 20% test set."
   ]
  },
  {
   "cell_type": "code",
   "execution_count": 31,
   "metadata": {
    "ExecuteTime": {
     "end_time": "2022-05-09T22:29:31.977768Z",
     "start_time": "2022-05-09T22:29:31.890723Z"
    }
   },
   "outputs": [],
   "source": [
    "# split out validation dataset for the end\n",
    "subset_dataset= dataset.iloc[-100000:]\n",
    "Y= subset_dataset[\"signal\"]\n",
    "X = subset_dataset.loc[:, dataset.columns != 'signal']\n",
    "validation_size = 0.2\n",
    "seed = 1\n",
    "X_train, X_validation, Y_train, Y_validation = train_test_split(X, Y, test_size=validation_size, random_state=1)"
   ]
  },
  {
   "cell_type": "markdown",
   "metadata": {},
   "source": [
    "<a id='4.2'></a>\n",
    "## 5.2. Test Options and Evaluation Metrics\n"
   ]
  },
  {
   "cell_type": "code",
   "execution_count": 32,
   "metadata": {
    "ExecuteTime": {
     "end_time": "2022-05-09T22:29:33.393536Z",
     "start_time": "2022-05-09T22:29:33.380252Z"
    },
    "_cell_guid": "5702bc31-06bf-8b6a-42de-366a6b3311a8"
   },
   "outputs": [],
   "source": [
    "# test options for classification\n",
    "num_folds = 10\n",
    "seed = 7\n",
    "scoring = 'accuracy'\n",
    "#scoring = 'precision'\n",
    "#scoring = 'recall'\n",
    "#scoring ='neg_log_loss'\n",
    "#scoring = 'roc_auc'"
   ]
  },
  {
   "cell_type": "markdown",
   "metadata": {},
   "source": [
    "<a id='4.3'></a>\n",
    "## 5.3. Compare Models and Algorithms"
   ]
  },
  {
   "cell_type": "markdown",
   "metadata": {},
   "source": [
    "In order to know which algorithm technic is the best for our strategy, we evaluate following non linear different methods:"
   ]
  },
  {
   "cell_type": "markdown",
   "metadata": {},
   "source": [
    "<a id='4.3.1'></a>\n",
    "### 5.3.1. Models"
   ]
  },
  {
   "cell_type": "code",
   "execution_count": 33,
   "metadata": {
    "ExecuteTime": {
     "end_time": "2022-05-09T22:29:34.700374Z",
     "start_time": "2022-05-09T22:29:34.672472Z"
    },
    "_cell_guid": "772802f7-f4e4-84ee-6377-6464ab2e5da4"
   },
   "outputs": [],
   "source": [
    "# spot check the algorithms\n",
    "models = []\n",
    "models.append(('LR', LogisticRegression(n_jobs=-1)))\n",
    "models.append(('LDA', LinearDiscriminantAnalysis()))\n",
    "models.append(('KNN', KNeighborsClassifier()))\n",
    "models.append(('CART', DecisionTreeClassifier()))\n",
    "models.append(('NB', GaussianNB()))\n",
    "#Neural Network\n",
    "models.append(('NN', MLPClassifier()))\n",
    "#Ensable Models \n",
    "# Boosting methods\n",
    "models.append(('AB', AdaBoostClassifier()))\n",
    "models.append(('GBM', GradientBoostingClassifier()))\n",
    "# Bagging methods\n",
    "models.append(('RF', RandomForestClassifier(n_jobs=-1)))"
   ]
  },
  {
   "cell_type": "markdown",
   "metadata": {},
   "source": [
    "### K-folds cross validation"
   ]
  },
  {
   "cell_type": "code",
   "execution_count": 38,
   "metadata": {
    "ExecuteTime": {
     "end_time": "2022-05-10T13:09:24.864109Z",
     "start_time": "2022-05-09T22:43:36.313212Z"
    },
    "_cell_guid": "a784ab4a-eb59-98cc-76cf-b55f382d057a"
   },
   "outputs": [
    {
     "name": "stdout",
     "output_type": "stream",
     "text": [
      "LR: 0.928887 (0.023637)\n",
      "LDA: 0.918775 (0.003080)\n",
      "KNN: 0.927950 (0.002449)\n",
      "CART: 0.897700 (0.003230)\n",
      "NB: 0.800137 (0.004179)\n",
      "NN: 0.756462 (0.054749)\n",
      "AB: 0.914675 (0.004398)\n",
      "GBM: 0.923850 (0.004290)\n",
      "RF: 0.930612 (0.004119)\n"
     ]
    }
   ],
   "source": [
    "results = []\n",
    "names = []\n",
    "for name, model in models:\n",
    "    kfold = KFold(n_splits=num_folds)\n",
    "    cv_results = cross_val_score(model, X_train, Y_train, cv=kfold, scoring=scoring)\n",
    "    results.append(cv_results)\n",
    "    names.append(name)\n",
    "    msg = \"%s: %f (%f)\" % (name, cv_results.mean(), cv_results.std())\n",
    "    print(msg)"
   ]
  },
  {
   "cell_type": "code",
   "execution_count": 39,
   "metadata": {
    "ExecuteTime": {
     "end_time": "2022-05-10T13:09:29.109046Z",
     "start_time": "2022-05-10T13:09:28.636142Z"
    },
    "_cell_guid": "67873e9d-bc9b-6963-f594-805f1efbfbb3"
   },
   "outputs": [
    {
     "data": {
      "image/png": "[encoded data removed]",
      "text/plain": [
       "<Figure size 1080x576 with 1 Axes>"
      ]
     },
     "metadata": {
      "needs_background": "light"
     },
     "output_type": "display_data"
    }
   ],
   "source": [
    "# compare algorithms\n",
    "fig = plt.figure()\n",
    "fig.suptitle('Algorithm Comparison')\n",
    "ax = fig.add_subplot(111)\n",
    "plt.boxplot(results)\n",
    "ax.set_xticklabels(names)\n",
    "fig.set_size_inches(15,8)\n",
    "plt.show()"
   ]
  },
  {
   "cell_type": "markdown",
   "metadata": {},
   "source": [
    "<a id='5'></a>\n",
    "# 6. Model Tuning and Grid Search"
   ]
  },
  {
   "cell_type": "markdown",
   "metadata": {
    "_cell_guid": "848ca488-b0fd-8e93-2e68-23d32c71d89c"
   },
   "source": [
    "Random forest is selected for the grid search as it is one of the best models out of all."
   ]
  },
  {
   "cell_type": "code",
   "execution_count": 40,
   "metadata": {
    "ExecuteTime": {
     "end_time": "2022-05-10T13:09:30.164339Z",
     "start_time": "2022-05-10T13:09:29.822041Z"
    }
   },
   "outputs": [
    {
     "ename": "ValueError",
     "evalue": "Setting a random_state has no effect since shuffle is False. You should leave random_state to its default (None), or set shuffle=True.",
     "output_type": "error",
     "traceback": [
      "\u001b[1;31m---------------------------------------------------------------------------\u001b[0m",
      "\u001b[1;31mValueError\u001b[0m                                Traceback (most recent call last)",
      "\u001b[1;32m<ipython-input-40-203df38398b6>\u001b[0m in \u001b[0;36m<module>\u001b[1;34m\u001b[0m\n\u001b[0;32m     20\u001b[0m \u001b[0mparam_grid\u001b[0m \u001b[1;33m=\u001b[0m \u001b[0mdict\u001b[0m\u001b[1;33m(\u001b[0m\u001b[0mn_estimators\u001b[0m\u001b[1;33m=\u001b[0m\u001b[0mn_estimators\u001b[0m\u001b[1;33m,\u001b[0m \u001b[0mmax_depth\u001b[0m\u001b[1;33m=\u001b[0m\u001b[0mmax_depth\u001b[0m\u001b[1;33m,\u001b[0m \u001b[0mcriterion\u001b[0m \u001b[1;33m=\u001b[0m \u001b[0mcriterion\u001b[0m \u001b[1;33m)\u001b[0m\u001b[1;33m\u001b[0m\u001b[1;33m\u001b[0m\u001b[0m\n\u001b[0;32m     21\u001b[0m \u001b[0mmodel\u001b[0m \u001b[1;33m=\u001b[0m \u001b[0mRandomForestClassifier\u001b[0m\u001b[1;33m(\u001b[0m\u001b[0mn_jobs\u001b[0m\u001b[1;33m=\u001b[0m\u001b[1;33m-\u001b[0m\u001b[1;36m1\u001b[0m\u001b[1;33m)\u001b[0m\u001b[1;33m\u001b[0m\u001b[1;33m\u001b[0m\u001b[0m\n\u001b[1;32m---> 22\u001b[1;33m \u001b[0mkfold\u001b[0m \u001b[1;33m=\u001b[0m \u001b[0mKFold\u001b[0m\u001b[1;33m(\u001b[0m\u001b[0mn_splits\u001b[0m\u001b[1;33m=\u001b[0m\u001b[0mnum_folds\u001b[0m\u001b[1;33m,\u001b[0m \u001b[0mrandom_state\u001b[0m\u001b[1;33m=\u001b[0m\u001b[0mseed\u001b[0m\u001b[1;33m)\u001b[0m\u001b[1;33m\u001b[0m\u001b[1;33m\u001b[0m\u001b[0m\n\u001b[0m\u001b[0;32m     23\u001b[0m \u001b[0mgrid\u001b[0m \u001b[1;33m=\u001b[0m \u001b[0mGridSearchCV\u001b[0m\u001b[1;33m(\u001b[0m\u001b[0mestimator\u001b[0m\u001b[1;33m=\u001b[0m\u001b[0mmodel\u001b[0m\u001b[1;33m,\u001b[0m \u001b[0mparam_grid\u001b[0m\u001b[1;33m=\u001b[0m\u001b[0mparam_grid\u001b[0m\u001b[1;33m,\u001b[0m \u001b[0mscoring\u001b[0m\u001b[1;33m=\u001b[0m\u001b[0mscoring\u001b[0m\u001b[1;33m,\u001b[0m \u001b[0mcv\u001b[0m\u001b[1;33m=\u001b[0m\u001b[0mkfold\u001b[0m\u001b[1;33m)\u001b[0m\u001b[1;33m\u001b[0m\u001b[1;33m\u001b[0m\u001b[0m\n\u001b[0;32m     24\u001b[0m \u001b[0mgrid_result\u001b[0m \u001b[1;33m=\u001b[0m \u001b[0mgrid\u001b[0m\u001b[1;33m.\u001b[0m\u001b[0mfit\u001b[0m\u001b[1;33m(\u001b[0m\u001b[0mrescaledX\u001b[0m\u001b[1;33m,\u001b[0m \u001b[0mY_train\u001b[0m\u001b[1;33m)\u001b[0m\u001b[1;33m\u001b[0m\u001b[1;33m\u001b[0m\u001b[0m\n",
      "\u001b[1;32mC:\\ProgramData\\Anaconda3\\lib\\site-packages\\sklearn\\utils\\validation.py\u001b[0m in \u001b[0;36minner_f\u001b[1;34m(*args, **kwargs)\u001b[0m\n\u001b[0;32m     61\u001b[0m             \u001b[0mextra_args\u001b[0m \u001b[1;33m=\u001b[0m \u001b[0mlen\u001b[0m\u001b[1;33m(\u001b[0m\u001b[0margs\u001b[0m\u001b[1;33m)\u001b[0m \u001b[1;33m-\u001b[0m \u001b[0mlen\u001b[0m\u001b[1;33m(\u001b[0m\u001b[0mall_args\u001b[0m\u001b[1;33m)\u001b[0m\u001b[1;33m\u001b[0m\u001b[1;33m\u001b[0m\u001b[0m\n\u001b[0;32m     62\u001b[0m             \u001b[1;32mif\u001b[0m \u001b[0mextra_args\u001b[0m \u001b[1;33m<=\u001b[0m \u001b[1;36m0\u001b[0m\u001b[1;33m:\u001b[0m\u001b[1;33m\u001b[0m\u001b[1;33m\u001b[0m\u001b[0m\n\u001b[1;32m---> 63\u001b[1;33m                 \u001b[1;32mreturn\u001b[0m \u001b[0mf\u001b[0m\u001b[1;33m(\u001b[0m\u001b[1;33m*\u001b[0m\u001b[0margs\u001b[0m\u001b[1;33m,\u001b[0m \u001b[1;33m**\u001b[0m\u001b[0mkwargs\u001b[0m\u001b[1;33m)\u001b[0m\u001b[1;33m\u001b[0m\u001b[1;33m\u001b[0m\u001b[0m\n\u001b[0m\u001b[0;32m     64\u001b[0m \u001b[1;33m\u001b[0m\u001b[0m\n\u001b[0;32m     65\u001b[0m             \u001b[1;31m# extra_args > 0\u001b[0m\u001b[1;33m\u001b[0m\u001b[1;33m\u001b[0m\u001b[1;33m\u001b[0m\u001b[0m\n",
      "\u001b[1;32mC:\\ProgramData\\Anaconda3\\lib\\site-packages\\sklearn\\model_selection\\_split.py\u001b[0m in \u001b[0;36m__init__\u001b[1;34m(self, n_splits, shuffle, random_state)\u001b[0m\n\u001b[0;32m    426\u001b[0m     def __init__(self, n_splits=5, *, shuffle=False,\n\u001b[0;32m    427\u001b[0m                  random_state=None):\n\u001b[1;32m--> 428\u001b[1;33m         super().__init__(n_splits=n_splits, shuffle=shuffle,\n\u001b[0m\u001b[0;32m    429\u001b[0m                          random_state=random_state)\n\u001b[0;32m    430\u001b[0m \u001b[1;33m\u001b[0m\u001b[0m\n",
      "\u001b[1;32mC:\\ProgramData\\Anaconda3\\lib\\site-packages\\sklearn\\utils\\validation.py\u001b[0m in \u001b[0;36minner_f\u001b[1;34m(*args, **kwargs)\u001b[0m\n\u001b[0;32m     61\u001b[0m             \u001b[0mextra_args\u001b[0m \u001b[1;33m=\u001b[0m \u001b[0mlen\u001b[0m\u001b[1;33m(\u001b[0m\u001b[0margs\u001b[0m\u001b[1;33m)\u001b[0m \u001b[1;33m-\u001b[0m \u001b[0mlen\u001b[0m\u001b[1;33m(\u001b[0m\u001b[0mall_args\u001b[0m\u001b[1;33m)\u001b[0m\u001b[1;33m\u001b[0m\u001b[1;33m\u001b[0m\u001b[0m\n\u001b[0;32m     62\u001b[0m             \u001b[1;32mif\u001b[0m \u001b[0mextra_args\u001b[0m \u001b[1;33m<=\u001b[0m \u001b[1;36m0\u001b[0m\u001b[1;33m:\u001b[0m\u001b[1;33m\u001b[0m\u001b[1;33m\u001b[0m\u001b[0m\n\u001b[1;32m---> 63\u001b[1;33m                 \u001b[1;32mreturn\u001b[0m \u001b[0mf\u001b[0m\u001b[1;33m(\u001b[0m\u001b[1;33m*\u001b[0m\u001b[0margs\u001b[0m\u001b[1;33m,\u001b[0m \u001b[1;33m**\u001b[0m\u001b[0mkwargs\u001b[0m\u001b[1;33m)\u001b[0m\u001b[1;33m\u001b[0m\u001b[1;33m\u001b[0m\u001b[0m\n\u001b[0m\u001b[0;32m     64\u001b[0m \u001b[1;33m\u001b[0m\u001b[0m\n\u001b[0;32m     65\u001b[0m             \u001b[1;31m# extra_args > 0\u001b[0m\u001b[1;33m\u001b[0m\u001b[1;33m\u001b[0m\u001b[1;33m\u001b[0m\u001b[0m\n",
      "\u001b[1;32mC:\\ProgramData\\Anaconda3\\lib\\site-packages\\sklearn\\model_selection\\_split.py\u001b[0m in \u001b[0;36m__init__\u001b[1;34m(self, n_splits, shuffle, random_state)\u001b[0m\n\u001b[0;32m    288\u001b[0m \u001b[1;33m\u001b[0m\u001b[0m\n\u001b[0;32m    289\u001b[0m         \u001b[1;32mif\u001b[0m \u001b[1;32mnot\u001b[0m \u001b[0mshuffle\u001b[0m \u001b[1;32mand\u001b[0m \u001b[0mrandom_state\u001b[0m \u001b[1;32mis\u001b[0m \u001b[1;32mnot\u001b[0m \u001b[1;32mNone\u001b[0m\u001b[1;33m:\u001b[0m  \u001b[1;31m# None is the default\u001b[0m\u001b[1;33m\u001b[0m\u001b[1;33m\u001b[0m\u001b[0m\n\u001b[1;32m--> 290\u001b[1;33m             raise ValueError(\n\u001b[0m\u001b[0;32m    291\u001b[0m                 \u001b[1;34m'Setting a random_state has no effect since shuffle is '\u001b[0m\u001b[1;33m\u001b[0m\u001b[1;33m\u001b[0m\u001b[0m\n\u001b[0;32m    292\u001b[0m                 \u001b[1;34m'False. You should leave '\u001b[0m\u001b[1;33m\u001b[0m\u001b[1;33m\u001b[0m\u001b[0m\n",
      "\u001b[1;31mValueError\u001b[0m: Setting a random_state has no effect since shuffle is False. You should leave random_state to its default (None), or set shuffle=True."
     ]
    }
   ],
   "source": [
    "# Grid Search: Random Forest Classifier\n",
    "'''\n",
    "n_estimators : int (default=100)\n",
    "    The number of boosting stages to perform. \n",
    "    Gradient boosting is fairly robust to over-fitting so a large number usually results in better performance.\n",
    "max_depth : integer, optional (default=3)\n",
    "    maximum depth of the individual regression estimators. \n",
    "    The maximum depth limits the number of nodes in the tree. \n",
    "    Tune this parameter for best performance; the best value depends on the interaction of the input variables    \n",
    "criterion : string, optional (default=”gini”)\n",
    "    The function to measure the quality of a split. \n",
    "    Supported criteria are “gini” for the Gini impurity and “entropy” for the information gain. \n",
    "    \n",
    "'''   \n",
    "scaler = StandardScaler().fit(X_train)\n",
    "rescaledX = scaler.transform(X_train)\n",
    "n_estimators = [20,80]\n",
    "max_depth= [5,10]\n",
    "criterion = [\"gini\",\"entropy\"]\n",
    "param_grid = dict(n_estimators=n_estimators, max_depth=max_depth, criterion = criterion )\n",
    "model = RandomForestClassifier(n_jobs=-1)\n",
    "kfold = KFold(n_splits=num_folds, random_state=seed)\n",
    "grid = GridSearchCV(estimator=model, param_grid=param_grid, scoring=scoring, cv=kfold)\n",
    "grid_result = grid.fit(rescaledX, Y_train)\n",
    "\n",
    "#Print Results\n",
    "print(\"Best: %f using %s\" % (grid_result.best_score_, grid_result.best_params_))\n",
    "means = grid_result.cv_results_['mean_test_score']\n",
    "stds = grid_result.cv_results_['std_test_score']\n",
    "params = grid_result.cv_results_['params']\n",
    "ranks = grid_result.cv_results_['rank_test_score']\n",
    "for mean, stdev, param, rank in zip(means, stds, params, ranks):\n",
    "    print(\"#%d %f (%f) with: %r\" % (rank, mean, stdev, param))"
   ]
  },
  {
   "cell_type": "markdown",
   "metadata": {},
   "source": [
    "<a id='6'></a>\n",
    "# 7. Finalise the Model"
   ]
  },
  {
   "cell_type": "markdown",
   "metadata": {},
   "source": [
    "Finalizing the model with best parameters found during tuning step."
   ]
  },
  {
   "cell_type": "markdown",
   "metadata": {},
   "source": [
    "<a id='6.1'></a>\n",
    "## 7.1. Results on the Test Dataset"
   ]
  },
  {
   "cell_type": "code",
   "execution_count": null,
   "metadata": {
    "ExecuteTime": {
     "end_time": "2022-05-10T13:09:30.173752Z",
     "start_time": "2022-05-09T22:43:59.145Z"
    }
   },
   "outputs": [],
   "source": [
    "# prepare model\n",
    "model = RandomForestClassifier(criterion='gini', n_estimators=80,max_depth=10,n_jobs=-1) # rbf is default kernel\n",
    "#model = LogisticRegression() \n",
    "model.fit(X_train, Y_train)"
   ]
  },
  {
   "cell_type": "code",
   "execution_count": null,
   "metadata": {
    "ExecuteTime": {
     "end_time": "2022-05-10T13:09:30.177310Z",
     "start_time": "2022-05-09T22:43:59.534Z"
    },
    "_cell_guid": "f9725666-3c21-69d1-ddf6-45e47d982444"
   },
   "outputs": [],
   "source": [
    "# estimate accuracy on validation set\n",
    "predictions = model.predict(X_validation)\n",
    "print(accuracy_score(Y_validation, predictions))\n",
    "print(confusion_matrix(Y_validation, predictions))\n",
    "print(classification_report(Y_validation, predictions))"
   ]
  },
  {
   "cell_type": "code",
   "execution_count": null,
   "metadata": {
    "ExecuteTime": {
     "end_time": "2022-05-10T13:09:30.181915Z",
     "start_time": "2022-05-09T22:43:59.762Z"
    }
   },
   "outputs": [],
   "source": [
    "df_cm = pd.DataFrame(confusion_matrix(Y_validation, predictions), columns=np.unique(Y_validation), index = np.unique(Y_validation))\n",
    "df_cm.index.name = 'Actual'\n",
    "df_cm.columns.name = 'Predicted'\n",
    "sns.heatmap(df_cm, cmap=\"Blues\", annot=True,annot_kws={\"size\": 16})# font sizes"
   ]
  },
  {
   "cell_type": "markdown",
   "metadata": {},
   "source": [
    "<a id='6.2'></a>\n",
    "## 7.2. Variable Intuition/Feature Importance\n",
    "Let us look into the Feature Importance of the model"
   ]
  },
  {
   "cell_type": "code",
   "execution_count": null,
   "metadata": {
    "ExecuteTime": {
     "end_time": "2022-05-10T13:09:30.184551Z",
     "start_time": "2022-05-09T22:44:00.187Z"
    }
   },
   "outputs": [],
   "source": [
    "Importance = pd.DataFrame({'Importance':model.feature_importances_*100}, index=X.columns)\n",
    "Importance.sort_values('Importance', axis=0, ascending=True).plot(kind='barh', color='r' )\n",
    "plt.xlabel('Variable Importance')"
   ]
  },
  {
   "cell_type": "markdown",
   "metadata": {},
   "source": [
    "<a id='7'></a>\n",
    "## 8. Backtesting Results"
   ]
  },
  {
   "cell_type": "code",
   "execution_count": null,
   "metadata": {
    "ExecuteTime": {
     "end_time": "2022-05-10T13:09:30.187633Z",
     "start_time": "2022-05-09T22:44:01.419Z"
    }
   },
   "outputs": [],
   "source": [
    "#Create column for Strategy Returns by multiplying the daily returns by the position that was held at close\n",
    "#of business the previous day\n",
    "backtestdata = pd.DataFrame(index=X_validation.index)\n",
    "#backtestdata = pd.DataFrame()\n",
    "backtestdata['signal_pred'] = predictions\n",
    "backtestdata['signal_actual'] = Y_validation\n",
    "backtestdata['Market Returns'] = X_validation['Close'].pct_change()\n",
    "backtestdata['Actual Returns'] = backtestdata['Market Returns'] * backtestdata['signal_actual'].shift(1)\n",
    "backtestdata['Strategy Returns'] = backtestdata['Market Returns'] * backtestdata['signal_pred'].shift(1)\n",
    "backtestdata=backtestdata.reset_index()\n",
    "backtestdata.head()\n",
    "backtestdata[['Strategy Returns','Actual Returns']].cumsum().hist()\n",
    "backtestdata[['Strategy Returns','Actual Returns']].cumsum().plot()"
   ]
  },
  {
   "cell_type": "markdown",
   "metadata": {},
   "source": [
    "__Conclusion__:\n",
    "\n",
    "We showed that framing the problem is the first priority and we address it by engi‐\n",
    "neering the features and transforming the labels according to the investment objective.\n",
    "\n",
    "We demonstrated the efficiency of using feature engineering that leads to creation of\n",
    "intuitive features related to the trend and momentum of the price movement and\n",
    "increases the predictive power of the model.\n",
    "\n",
    "In terms of the evaluation metrics for a classification-based trading strategy, accuracy\n",
    "or auc are appropriate, but in case the strategy is focusing to be more accurate while\n",
    "going long, the metric recall which focuses on less false positive can be preferred as\n",
    "compared to accuracy.\n",
    "\n",
    "Finally, we demonstrated the backtesting framework which allows us to simulate a\n",
    "trading strategy using historical data to generate results and analyze risk and profita‐\n",
    "bility before risking any actual capital.\n"
   ]
  },
  {
   "cell_type": "code",
   "execution_count": null,
   "metadata": {},
   "outputs": [],
   "source": []
  }
 ],
 "metadata": {
  "_change_revision": 206,
  "_is_fork": false,
  "kernelspec": {
   "display_name": "Python 3",
   "language": "python",
   "name": "python3"
  },
  "language_info": {
   "codemirror_mode": {
    "name": "ipython",
    "version": 3
   },
   "file_extension": ".py",
   "mimetype": "text/x-python",
   "name": "python",
   "nbconvert_exporter": "python",
   "pygments_lexer": "ipython3",
   "version": "3.8.8"
  },
  "toc": {
   "base_numbering": 1,
   "nav_menu": {},
   "number_sections": true,
   "sideBar": true,
   "skip_h1_title": false,
   "title_cell": "Table of Contents",
   "title_sidebar": "Contents",
   "toc_cell": false,
   "toc_position": {},
   "toc_section_display": true,
   "toc_window_display": true
  },
  "varInspector": {
   "cols": {
    "lenName": 16,
    "lenType": 16,
    "lenVar": 40
   },
   "kernels_config": {
    "python": {
     "delete_cmd_postfix": "",
     "delete_cmd_prefix": "del ",
     "library": "var_list.py",
     "varRefreshCmd": "print(var_dic_list())"
    },
    "r": {
     "delete_cmd_postfix": ") ",
     "delete_cmd_prefix": "rm(",
     "library": "var_list.r",
     "varRefreshCmd": "cat(var_dic_list()) "
    }
   },
   "types_to_exclude": [
    "module",
    "function",
    "builtin_function_or_method",
    "instance",
    "_Feature"
   ],
   "window_display": false
  }
 },
 "nbformat": 4,
 "nbformat_minor": 1
}
